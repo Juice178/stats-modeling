{
 "cells": [
  {
   "cell_type": "markdown",
   "metadata": {},
   "source": [
    "<head>\n",
    "    <h1>Model selection of GLM </h1>\n",
    "    <p>AIC and goodness of prediction</p>\n",
    "</head>"
   ]
  },
  {
   "cell_type": "code",
   "execution_count": 54,
   "metadata": {},
   "outputs": [
    {
     "name": "stdout",
     "output_type": "stream",
     "text": [
      "data.RData  data3a.csv  data4a.csv  data_R.csv\r\n"
     ]
    }
   ],
   "source": [
    "ls ../data"
   ]
  },
  {
   "cell_type": "code",
   "execution_count": 55,
   "metadata": {},
   "outputs": [],
   "source": [
    "import numpy as np\n",
    "import pandas as pd\n",
    "import matplotlib.pyplot as plt\n",
    "%matplotlib inline\n",
    "import seaborn as sns \n",
    "sns.set();"
   ]
  },
  {
   "cell_type": "code",
   "execution_count": 56,
   "metadata": {},
   "outputs": [],
   "source": [
    "df = pd.read_csv('../data/data3a.csv')"
   ]
  },
  {
   "cell_type": "code",
   "execution_count": 57,
   "metadata": {},
   "outputs": [
    {
     "data": {
      "text/html": [
       "<div>\n",
       "<style>\n",
       "    .dataframe thead tr:only-child th {\n",
       "        text-align: right;\n",
       "    }\n",
       "\n",
       "    .dataframe thead th {\n",
       "        text-align: left;\n",
       "    }\n",
       "\n",
       "    .dataframe tbody tr th {\n",
       "        vertical-align: top;\n",
       "    }\n",
       "</style>\n",
       "<table border=\"1\" class=\"dataframe\">\n",
       "  <thead>\n",
       "    <tr style=\"text-align: right;\">\n",
       "      <th></th>\n",
       "      <th>y</th>\n",
       "      <th>x</th>\n",
       "      <th>f</th>\n",
       "    </tr>\n",
       "  </thead>\n",
       "  <tbody>\n",
       "    <tr>\n",
       "      <th>0</th>\n",
       "      <td>6</td>\n",
       "      <td>8.31</td>\n",
       "      <td>C</td>\n",
       "    </tr>\n",
       "    <tr>\n",
       "      <th>1</th>\n",
       "      <td>6</td>\n",
       "      <td>9.44</td>\n",
       "      <td>C</td>\n",
       "    </tr>\n",
       "    <tr>\n",
       "      <th>2</th>\n",
       "      <td>6</td>\n",
       "      <td>9.50</td>\n",
       "      <td>C</td>\n",
       "    </tr>\n",
       "    <tr>\n",
       "      <th>3</th>\n",
       "      <td>12</td>\n",
       "      <td>9.07</td>\n",
       "      <td>C</td>\n",
       "    </tr>\n",
       "    <tr>\n",
       "      <th>4</th>\n",
       "      <td>10</td>\n",
       "      <td>10.16</td>\n",
       "      <td>C</td>\n",
       "    </tr>\n",
       "  </tbody>\n",
       "</table>\n",
       "</div>"
      ],
      "text/plain": [
       "    y      x  f\n",
       "0   6   8.31  C\n",
       "1   6   9.44  C\n",
       "2   6   9.50  C\n",
       "3  12   9.07  C\n",
       "4  10  10.16  C"
      ]
     },
     "execution_count": 57,
     "metadata": {},
     "output_type": "execute_result"
    }
   ],
   "source": [
    "df.head()"
   ]
  },
  {
   "cell_type": "code",
   "execution_count": 58,
   "metadata": {},
   "outputs": [
    {
     "data": {
      "image/png": "[encoded data removed]",
      "text/plain": [
       "<matplotlib.figure.Figure at 0x1c1d42fef0>"
      ]
     },
     "metadata": {},
     "output_type": "display_data"
    }
   ],
   "source": [
    "plt.scatter(df['x'], df['y']) \n",
    "plt.xlabel(\"size of plant\")\n",
    "plt.ylabel(\"the number of seeds\")\n",
    "plt.show()"
   ]
  },
  {
   "cell_type": "code",
   "execution_count": 59,
   "metadata": {},
   "outputs": [],
   "source": [
    "import statsmodels.api as sm"
   ]
  },
  {
   "cell_type": "code",
   "execution_count": 60,
   "metadata": {},
   "outputs": [],
   "source": [
    "import statsmodels.formula.api as smf"
   ]
  },
  {
   "cell_type": "markdown",
   "metadata": {},
   "source": [
    "<h3>The number of parameters used in Possion regression</h3>\n",
    "<p>The more parameters are used, the better goodness of fit becomes</p>"
   ]
  },
  {
   "cell_type": "code",
   "execution_count": 61,
   "metadata": {},
   "outputs": [
    {
     "name": "stdout",
     "output_type": "stream",
     "text": [
      "                 Generalized Linear Model Regression Results                  \n",
      "==============================================================================\n",
      "Dep. Variable:                      y   No. Observations:                  100\n",
      "Model:                            GLM   Df Residuals:                       99\n",
      "Model Family:                 Poisson   Df Model:                            0\n",
      "Link Function:                    log   Scale:                             1.0\n",
      "Method:                          IRLS   Log-Likelihood:                -237.64\n",
      "Date:                Tue, 23 Oct 2018   Deviance:                       89.507\n",
      "Time:                        23:51:27   Pearson chi2:                     87.1\n",
      "No. Iterations:                     4                                         \n",
      "==============================================================================\n",
      "                 coef    std err          z      P>|z|      [0.025      0.975]\n",
      "------------------------------------------------------------------------------\n",
      "Intercept      2.0580      0.036     57.586      0.000       1.988       2.128\n",
      "==============================================================================\n"
     ]
    }
   ],
   "source": [
    "results = smf.glm('y ~ 1', data=df,\n",
    "                 family=sm.families.Poisson(link=sm.families.links.log)).fit()\n",
    "print(results.summary())"
   ]
  },
  {
   "cell_type": "code",
   "execution_count": 62,
   "metadata": {},
   "outputs": [
    {
     "data": {
      "image/png": "[encoded data removed]",
      "text/plain": [
       "<matplotlib.figure.Figure at 0x1c1d69ed68>"
      ]
     },
     "metadata": {},
     "output_type": "display_data"
    }
   ],
   "source": [
    "plt.scatter(df['x'], df['y']) \n",
    "plt.xlabel(\"size of plant\")\n",
    "plt.ylabel(\"the number of seeds\")\n",
    "xx = np.linspace(np.min(df['x']), np.max(df['x']),100)\n",
    "plt.plot(xx, np.exp(2.0580 + 0 * xx))\n",
    "plt.xlabel(\"X (size of a plant)\")\n",
    "plt.ylabel(\"Y (the number of seeds each plant has)\")\n",
    "plt.title(\"Poisson regression line with 1 parameter\")\n",
    "plt.show()"
   ]
  },
  {
   "cell_type": "code",
   "execution_count": null,
   "metadata": {},
   "outputs": [],
   "source": []
  },
  {
   "cell_type": "code",
   "execution_count": 63,
   "metadata": {
    "scrolled": false
   },
   "outputs": [
    {
     "name": "stdout",
     "output_type": "stream",
     "text": [
      "                 Generalized Linear Model Regression Results                  \n",
      "==============================================================================\n",
      "Dep. Variable:                      y   No. Observations:                  100\n",
      "Model:                            GLM   Df Residuals:                       93\n",
      "Model Family:                 Poisson   Df Model:                            6\n",
      "Link Function:                    log   Scale:                             1.0\n",
      "Method:                          IRLS   Log-Likelihood:                -232.58\n",
      "Date:                Tue, 23 Oct 2018   Deviance:                       79.385\n",
      "Time:                        23:51:28   Pearson chi2:                     76.7\n",
      "No. Iterations:                     4                                         \n",
      "==================================================================================\n",
      "                     coef    std err          z      P>|z|      [0.025      0.975]\n",
      "----------------------------------------------------------------------------------\n",
      "Intercept       8185.6246   7764.790      1.054      0.292   -7033.084    2.34e+04\n",
      "x              -4980.3818   4833.718     -1.030      0.303   -1.45e+04    4493.531\n",
      "np.power(x, 2)  1251.8054   1245.521      1.005      0.315   -1189.370    3692.981\n",
      "np.power(x, 3)  -166.4112    170.083     -0.978      0.328    -499.768     166.945\n",
      "np.power(x, 4)    12.3450     12.985      0.951      0.342     -13.105      37.795\n",
      "np.power(x, 5)    -0.4847      0.526     -0.922      0.356      -1.515       0.545\n",
      "np.power(x, 6)     0.0079      0.009      0.893      0.372      -0.009       0.025\n",
      "==================================================================================\n"
     ]
    }
   ],
   "source": [
    "results = smf.glm('y ~ x + np.power(x, 2) + np.power(x, 3) + np.power(x, 4) + \\\n",
    "                  np.power(x, 5) + np.power(x, 6)' , data=df,\n",
    "                 family=sm.families.Poisson(link=sm.families.links.log)).fit()\n",
    "print(results.summary())"
   ]
  },
  {
   "cell_type": "code",
   "execution_count": 64,
   "metadata": {},
   "outputs": [
    {
     "data": {
      "text/plain": [
       "Intercept         8185.624606\n",
       "x                -4980.381838\n",
       "np.power(x, 2)    1251.805404\n",
       "np.power(x, 3)    -166.411214\n",
       "np.power(x, 4)      12.344999\n",
       "np.power(x, 5)      -0.484704\n",
       "np.power(x, 6)       0.007871\n",
       "dtype: float64"
      ]
     },
     "execution_count": 64,
     "metadata": {},
     "output_type": "execute_result"
    }
   ],
   "source": [
    "results.params"
   ]
  },
  {
   "cell_type": "code",
   "execution_count": 65,
   "metadata": {},
   "outputs": [
    {
     "name": "stdout",
     "output_type": "stream",
     "text": [
      "100\n",
      "100\n"
     ]
    }
   ],
   "source": [
    "print(len(results.predict()))\n",
    "print(len(df['x']))"
   ]
  },
  {
   "cell_type": "code",
   "execution_count": null,
   "metadata": {},
   "outputs": [],
   "source": []
  },
  {
   "cell_type": "code",
   "execution_count": 66,
   "metadata": {},
   "outputs": [
    {
     "data": {
      "image/png": "[encoded data removed]",
      "text/plain": [
       "<matplotlib.figure.Figure at 0x1c1d487940>"
      ]
     },
     "metadata": {},
     "output_type": "display_data"
    }
   ],
   "source": [
    "plt.scatter(df['x'], df['y']) \n",
    "plt.xlabel(\"size of plant\")\n",
    "plt.ylabel(\"the number of seeds\")\n",
    "xx = np.linspace(np.min(df['x']), np.max(df['x']),100)\n",
    "plt.plot(xx, np.exp(results.params[0] + results.params[1] * xx + results.params[2] * np.power(xx, 2) \n",
    "                    + results.params[3] * np.power(xx,3) + results.params[4] * np.power(xx,4) \n",
    "                    + results.params[5] * np.power(xx,5) + results.params[6] * np.power(xx,6)))\n",
    "plt.xlabel(\"X (size of a plant)\")\n",
    "plt.ylabel(\"Y (the number of seeds each plant has)\")\n",
    "plt.title(\"Poisson regression line with 7 parameters\")\n",
    "plt.show()"
   ]
  },
  {
   "cell_type": "code",
   "execution_count": 67,
   "metadata": {},
   "outputs": [
    {
     "name": "stdout",
     "output_type": "stream",
     "text": [
      "                 Generalized Linear Model Regression Results                  \n",
      "==============================================================================\n",
      "Dep. Variable:                      y   No. Observations:                  100\n",
      "Model:                            GLM   Df Residuals:                       98\n",
      "Model Family:                 Poisson   Df Model:                            1\n",
      "Link Function:                    log   Scale:                             1.0\n",
      "Method:                          IRLS   Log-Likelihood:                -235.39\n",
      "Date:                Tue, 23 Oct 2018   Deviance:                       84.993\n",
      "Time:                        23:51:28   Pearson chi2:                     83.8\n",
      "No. Iterations:                     4                                         \n",
      "==============================================================================\n",
      "                 coef    std err          z      P>|z|      [0.025      0.975]\n",
      "------------------------------------------------------------------------------\n",
      "Intercept      1.2917      0.364      3.552      0.000       0.579       2.005\n",
      "x              0.0757      0.036      2.125      0.034       0.006       0.145\n",
      "==============================================================================\n"
     ]
    }
   ],
   "source": [
    "results = smf.glm('y ~ x', data=df,\n",
    "                 family=sm.families.Poisson(link=sm.families.links.log)).fit()\n",
    "print(results.summary())"
   ]
  },
  {
   "cell_type": "code",
   "execution_count": 68,
   "metadata": {},
   "outputs": [
    {
     "name": "stdout",
     "output_type": "stream",
     "text": [
      "Null Deviance 89.51\n",
      "Residual Deviance 84.99\n",
      "AIC 474.77\n"
     ]
    }
   ],
   "source": [
    "print(\"Null Deviance {0:.2f}\".format(results.null_deviance))\n",
    "print(\"Residual Deviance {0:.2f}\".format(results.deviance))\n",
    "print(\"AIC {0:.2f}\".format(results.aic))"
   ]
  },
  {
   "cell_type": "markdown",
   "metadata": {},
   "source": [
    "<h2>The badness of fittness</h2>\n",
    "<h3>Deviance = -2 logL </h3>\n",
    "<p>where logL is a maximum log-likelihood estimate</p>\n",
    "<h3>Residual deviance = D - (the minimum deviance that can be explained by Possion distribution)</h3>\n",
    "<p>where the minimum deviance = the deviance of full model</p>\n",
    "<h3>Full model is a model with the number of parameters being equal to the number of datasets</h3>\n",
    "<p>For example, in fitting a Poisson distribution to the dataset, if the response variable, y, takes on values, \n",
    "    y<sub>i</sub> = {6,6,6,12,10}, then full model uses parameters, $\\lambda$<sub>i</sub> =  {6,6,6,12,10}</p>\n",
    "<p>Log-liklihood is the biggest (in any other Poisson models) when full model is used</p>"
   ]
  },
  {
   "cell_type": "code",
   "execution_count": 69,
   "metadata": {},
   "outputs": [],
   "source": [
    "import scipy\n",
    "from scipy.stats import poisson"
   ]
  },
  {
   "cell_type": "code",
   "execution_count": null,
   "metadata": {},
   "outputs": [],
   "source": []
  },
  {
   "cell_type": "code",
   "execution_count": 70,
   "metadata": {},
   "outputs": [
    {
     "name": "stdout",
     "output_type": "stream",
     "text": [
      "MLE of full model -192.89\n",
      "Deviance of full model 385.78\n",
      "Residual Deviance: 85.000\n"
     ]
    }
   ],
   "source": [
    "mlle_full_model = np.sum(np.log(poisson.pmf(df['y'], df['y'])))\n",
    "deviance_full_model = -2 * mlle_full_model\n",
    "# mle_full_model = np.sum(poisson.logpmf(df['y'], df['y']))\n",
    "print('MLE of full model {0:.2f}'.format(mlle_full_model))\n",
    "print('Deviance of full model {0:.2f}'.format(deviance_full_model))\n",
    "log_likelihood = -235.39\n",
    "d = -2 * log_likelihood\n",
    "rd = d - deviance_full_model\n",
    "print(\"Residual Deviance: {0:.3f}\".format(rd))"
   ]
  },
  {
   "cell_type": "code",
   "execution_count": null,
   "metadata": {},
   "outputs": [],
   "source": []
  },
  {
   "cell_type": "markdown",
   "metadata": {},
   "source": [
    "<h3>Residual deviance is the biggest when a model has one parameter (this model is called 'null model' in R language)</h3>"
   ]
  },
  {
   "cell_type": "markdown",
   "metadata": {},
   "source": [
    "<p>Null model: log$\\lambda$<sub>i</sub> = $\\beta$<sub>i</sub></p>"
   ]
  },
  {
   "cell_type": "code",
   "execution_count": 71,
   "metadata": {},
   "outputs": [
    {
     "name": "stdout",
     "output_type": "stream",
     "text": [
      "                 Generalized Linear Model Regression Results                  \n",
      "==============================================================================\n",
      "Dep. Variable:                      y   No. Observations:                  100\n",
      "Model:                            GLM   Df Residuals:                       99\n",
      "Model Family:                 Poisson   Df Model:                            0\n",
      "Link Function:                    log   Scale:                             1.0\n",
      "Method:                          IRLS   Log-Likelihood:                -237.64\n",
      "Date:                Tue, 23 Oct 2018   Deviance:                       89.507\n",
      "Time:                        23:51:28   Pearson chi2:                     87.1\n",
      "No. Iterations:                     4                                         \n",
      "==============================================================================\n",
      "                 coef    std err          z      P>|z|      [0.025      0.975]\n",
      "------------------------------------------------------------------------------\n",
      "Intercept      2.0580      0.036     57.586      0.000       1.988       2.128\n",
      "==============================================================================\n",
      "AIC of null model is: 477.2864426185734\n"
     ]
    }
   ],
   "source": [
    "null_results = smf.glm('y ~ 1', data=df,\n",
    "                 family=sm.families.Poisson(link=sm.families.links.log)).fit()\n",
    "print(null_results.summary())\n",
    "print('AIC of null model is: {0}'.format(null_results.aic))"
   ]
  },
  {
   "cell_type": "code",
   "execution_count": 72,
   "metadata": {},
   "outputs": [
    {
     "name": "stdout",
     "output_type": "stream",
     "text": [
      "                 Generalized Linear Model Regression Results                  \n",
      "==============================================================================\n",
      "Dep. Variable:                      y   No. Observations:                  100\n",
      "Model:                            GLM   Df Residuals:                       99\n",
      "Model Family:                 Poisson   Df Model:                            0\n",
      "Link Function:                    log   Scale:                             1.0\n",
      "Method:                          IRLS   Log-Likelihood:                -237.64\n",
      "Date:                Tue, 23 Oct 2018   Deviance:                       89.507\n",
      "Time:                        23:51:28   Pearson chi2:                     87.1\n",
      "No. Iterations:                     4                                         \n",
      "==============================================================================\n",
      "                 coef    std err          z      P>|z|      [0.025      0.975]\n",
      "------------------------------------------------------------------------------\n",
      "Intercept      2.0580      0.036     57.586      0.000       1.988       2.128\n",
      "==============================================================================\n"
     ]
    }
   ],
   "source": [
    "print(null_results.summary())"
   ]
  },
  {
   "cell_type": "markdown",
   "metadata": {},
   "source": [
    "<h2>4.4 Model Selection Criterion</h2>\n",
    "<h3>AIC (Akaike's information criterion)</h3>"
   ]
  },
  {
   "cell_type": "markdown",
   "metadata": {},
   "source": [
    "<p>AIC&emsp;= -2 {(maximum log-likelihood estimate) - (the number of parameters inferred by maximum likelihood estimate)}<br>\n",
    "&emsp;&emsp;&emsp;= -2 (logL - k)<br>\n",
    "&emsp;&emsp;&emsp;= D+2k</p> \n",
    "<p>A model with the minimum AIC is a good estimator</p>"
   ]
  },
  {
   "cell_type": "code",
   "execution_count": 73,
   "metadata": {},
   "outputs": [],
   "source": [
    "from scipy.stats import poisson"
   ]
  },
  {
   "cell_type": "code",
   "execution_count": 138,
   "metadata": {},
   "outputs": [],
   "source": [
    "def poisson_sampling(mu, size, data_size, is_const):\n",
    "    \"\"\"generate random numbers from Poission distriubtion with some specified parameters\n",
    "    \n",
    "    # Arguments\n",
    "       mu: mean of Poission distribution \n",
    "       size: the number of samples to be generated from Poission distribution \n",
    "       data_size: the number of datasets to be generated from Poisson distribution\n",
    "       is_const: specifiy whether same random_numbers should be generated \n",
    "    \"\"\"\n",
    "    if is_const:\n",
    "        random_state=43\n",
    "    else:\n",
    "        random_state=None\n",
    "    \n",
    "    ys = []\n",
    "    for _ in range(data_size):\n",
    "        data = poisson.rvs(mu=mu, size=size, random_state=random_state)\n",
    "        ys.append(data)\n",
    "    return ys"
   ]
  },
  {
   "cell_type": "code",
   "execution_count": 139,
   "metadata": {},
   "outputs": [],
   "source": [
    "ys = poisson_sampling(mu=8, size=50, data_size=1, is_const=True)"
   ]
  },
  {
   "cell_type": "code",
   "execution_count": 140,
   "metadata": {},
   "outputs": [],
   "source": [
    "def plot_log_likelihood(data, mu):\n",
    "    \"\"\"Plot log likelihood based on generated data\n",
    "    \n",
    "    # Arguments\n",
    "       data: generated data from probability distribution\n",
    "    \"\"\"\n",
    "    mus = np.arange(1.80, 10.20, 0.5)\n",
    "    true_lambda = mu\n",
    "    log_ls = []\n",
    "    first_data = data[0]\n",
    "    for mu in mus:\n",
    "        rv = poisson(mu=mu)\n",
    "        log_l = np.sum(np.log(rv.pmf(first_data)))\n",
    "        log_ls.append(log_l)\n",
    "    estimated_lambda = mus[np.argmax(log_ls)]\n",
    "    log_like = np.max(log_ls)\n",
    "    plt.figure(figsize=(10, 5))\n",
    "    plt.plot(mus, log_ls, 'bo--') \n",
    "    plt.plot(true_lambda, np.min(log_ls)+2, 'ro')\n",
    "    plt.plot(mus[np.argmax(log_ls)], np.min(log_ls)+2, 'bo')\n",
    "    plt.vlines(x=mus[np.argmax(log_ls)], ymin=np.min(log_ls),\n",
    "               ymax=np.max(log_ls), linestyle='dashed')\n",
    "    plt.ylabel(\"Log likelihood\")\n",
    "    plt.ylim(np.min(log_ls), np.max(log_ls))\n",
    "    plt.xlabel(\"$\\lambda$\")\n",
    "    plt.annotate(\"$\\^\\lambda$ = {0:.2f}\".format(estimated_lambda),\n",
    "                 xy=(estimated_lambda, np.min(log_ls)), xytext=(estimated_lambda+1, \n",
    "            np.min(log_ls) + 0.5), arrowprops=dict(facecolor='black', shrink=0.07))\n",
    "    plt.annotate(\"$\\lambda$ = {0:.2f}\".format(true_lambda), xy=(true_lambda, np.min(log_ls)), xytext=(true_lambda-1, \n",
    "            np.min(log_ls) + 0.5), arrowprops=dict(facecolor='red', shrink=0.07))\n",
    "    plt.annotate(\"Log-likelihood  = {0:.2f}\".format(log_like), xy=(estimated_lambda, np.max(log_ls)), \n",
    "                 xytext=(estimated_lambda+1, \n",
    "            np.max(log_ls) - 0.2), arrowprops=dict(facecolor='red', shrink=0.07))\n",
    "    plt.title(\"Maximum likelihood estimate for 1st dataset\")\n",
    "    plt.show()"
   ]
  },
  {
   "cell_type": "code",
   "execution_count": 141,
   "metadata": {},
   "outputs": [
    {
     "data": {
      "image/png": "[encoded data removed]",
      "text/plain": [
       "<matplotlib.figure.Figure at 0x10cbd2e10>"
      ]
     },
     "metadata": {},
     "output_type": "display_data"
    }
   ],
   "source": [
    "plot_log_likelihood(ys,mu=8)"
   ]
  },
  {
   "cell_type": "markdown",
   "metadata": {},
   "source": [
    "<h2>Calculate mean log-likelihood of 200 generated datasets</h2>\n",
    "<p>Log-likelihood above is a value obtained by fitting a model to a dataset(with only 50 samples)</p>\n",
    "<p>Let's see how log-likelihood will change if we fit the model with \n",
    "    $\\lambda_1$(=$\\beta$<sub>1</sub>) to 200 datasets by taking the mean of log-likelihood</p> "
   ]
  },
  {
   "cell_type": "code",
   "execution_count": 148,
   "metadata": {
    "scrolled": true
   },
   "outputs": [],
   "source": [
    "def log_likelihood(data, mu):\n",
    "    \"\"\"Plot log likelihood based on generated data\n",
    "    \n",
    "    # Arguments\n",
    "       data: generated data from probability distribution\n",
    "    \"\"\"\n",
    "    estimated_lambda = mu\n",
    "    log_likes = []\n",
    "    for i in data:\n",
    "        log_ls = []\n",
    "        rv = poisson(mu=estimated_lambda)\n",
    "        log_l = np.sum(np.log(rv.pmf(i)))\n",
    "        log_ls.append(log_l)\n",
    "        log_likes.append(np.max(log_ls))\n",
    "    return np.mean(log_likes)"
   ]
  },
  {
   "cell_type": "code",
   "execution_count": 149,
   "metadata": {},
   "outputs": [],
   "source": [
    "ys = poisson_sampling(mu=8, size=50, data_size=200, is_const=False)"
   ]
  },
  {
   "cell_type": "markdown",
   "metadata": {},
   "source": [
    "<h3>Log-likelihood gets worse if we fit the model to additional datasets</h3>"
   ]
  },
  {
   "cell_type": "code",
   "execution_count": 150,
   "metadata": {},
   "outputs": [
    {
     "name": "stdout",
     "output_type": "stream",
     "text": [
      "Mean log-likelihood is -122.23\n"
     ]
    }
   ],
   "source": [
    "estimated_lambda = 8.30\n",
    "mean_log_likes = log_likelihood(ys, estimated_lambda)\n",
    "print(\"Mean log-likelihood is {0:.2f}\".format(mean_log_likes))"
   ]
  },
  {
   "cell_type": "code",
   "execution_count": null,
   "metadata": {},
   "outputs": [],
   "source": []
  },
  {
   "cell_type": "code",
   "execution_count": null,
   "metadata": {},
   "outputs": [],
   "source": []
  },
  {
   "cell_type": "code",
   "execution_count": 111,
   "metadata": {},
   "outputs": [
    {
     "name": "stdout",
     "output_type": "stream",
     "text": [
      "2.1162555148\n"
     ]
    }
   ],
   "source": [
    "print(np.log(8.30))"
   ]
  },
  {
   "cell_type": "code",
   "execution_count": 78,
   "metadata": {},
   "outputs": [
    {
     "name": "stdout",
     "output_type": "stream",
     "text": [
      "1\n",
      "50\n",
      "8.18\n"
     ]
    }
   ],
   "source": [
    "print(len(ys))\n",
    "print(len(ys[0]))\n",
    "print(np.mean(ys[0]))"
   ]
  },
  {
   "cell_type": "code",
   "execution_count": 79,
   "metadata": {},
   "outputs": [],
   "source": [
    "def random_generator(mu, sigma, size):\n",
    "    return np.absolute(np.random.normal(mu, sigma, size).astype(np.int64))\n",
    "\n",
    "def create_random_df():\n",
    "    mus = [10, 8]\n",
    "    sigmas = [2,5]\n",
    "    size = 100\n",
    "    rand_nums = []\n",
    "    for mu, sigma in zip(mus, sigmas):\n",
    "        rand_nums.append(random_generator(mu, sigma, size))\n",
    "    d = {'x': rand_nums[0], 'y': rand_nums[1]}\n",
    "    df = pd.DataFrame(data=d)\n",
    "    return df"
   ]
  },
  {
   "cell_type": "code",
   "execution_count": 80,
   "metadata": {},
   "outputs": [],
   "source": [
    "df_rand = create_random_df()"
   ]
  },
  {
   "cell_type": "code",
   "execution_count": 81,
   "metadata": {},
   "outputs": [
    {
     "name": "stdout",
     "output_type": "stream",
     "text": [
      "(100, 2)\n"
     ]
    }
   ],
   "source": [
    "df_rand.head()\n",
    "print(df_rand.shape)"
   ]
  },
  {
   "cell_type": "code",
   "execution_count": 82,
   "metadata": {},
   "outputs": [
    {
     "data": {
      "image/png": "[encoded data removed]",
      "text/plain": [
       "<matplotlib.figure.Figure at 0x1c1d435550>"
      ]
     },
     "metadata": {},
     "output_type": "display_data"
    }
   ],
   "source": [
    "plt.scatter(df_rand['x'], df_rand['y'])\n",
    "plt.xlabel(\"The size of plant\")\n",
    "plt.ylabel(\"The number of seeds\")\n",
    "plt.title(\"Random relationship between the size and the number of seeds\")\n",
    "plt.show()"
   ]
  },
  {
   "cell_type": "code",
   "execution_count": null,
   "metadata": {},
   "outputs": [],
   "source": []
  },
  {
   "cell_type": "code",
   "execution_count": null,
   "metadata": {},
   "outputs": [],
   "source": []
  },
  {
   "cell_type": "code",
   "execution_count": null,
   "metadata": {},
   "outputs": [],
   "source": []
  },
  {
   "cell_type": "code",
   "execution_count": null,
   "metadata": {},
   "outputs": [],
   "source": []
  },
  {
   "cell_type": "code",
   "execution_count": null,
   "metadata": {},
   "outputs": [],
   "source": []
  },
  {
   "cell_type": "code",
   "execution_count": null,
   "metadata": {},
   "outputs": [],
   "source": []
  },
  {
   "cell_type": "code",
   "execution_count": null,
   "metadata": {},
   "outputs": [],
   "source": []
  },
  {
   "cell_type": "code",
   "execution_count": null,
   "metadata": {},
   "outputs": [],
   "source": [
    "   "
   ]
  }
 ],
 "metadata": {
  "kernelspec": {
   "display_name": "Python 3",
   "language": "python",
   "name": "python3"
  },
  "language_info": {
   "codemirror_mode": {
    "name": "ipython",
    "version": 3
   },
   "file_extension": ".py",
   "mimetype": "text/x-python",
   "name": "python",
   "nbconvert_exporter": "python",
   "pygments_lexer": "ipython3",
   "version": "3.5.4"
  }
 },
 "nbformat": 4,
 "nbformat_minor": 2
}
