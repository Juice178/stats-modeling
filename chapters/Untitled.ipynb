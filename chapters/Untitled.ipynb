{
 "cells": [
  {
   "cell_type": "code",
   "execution_count": 16,
   "metadata": {},
   "outputs": [],
   "source": [
    "load('../data/data.RData')"
   ]
  },
  {
   "cell_type": "code",
   "execution_count": 18,
   "metadata": {},
   "outputs": [
    {
     "data": {
      "text/html": [
       "<table>\n",
       "<tbody>\n",
       "\t<tr><td>7 </td><td> 7</td><td>4 </td><td> 7</td><td>7 </td><td> 3</td><td> 4</td><td>10</td><td> 6</td><td> 8</td><td>⋯ </td><td>10</td><td> 7</td><td> 9</td><td> 5</td><td>11</td><td> 4</td><td>12</td><td> 8</td><td> 7</td><td> 6</td></tr>\n",
       "\t<tr><td>4 </td><td>11</td><td>7 </td><td> 7</td><td>8 </td><td> 3</td><td>10</td><td> 6</td><td> 8</td><td> 6</td><td>⋯ </td><td> 4</td><td> 3</td><td>12</td><td> 9</td><td> 8</td><td> 8</td><td> 8</td><td>11</td><td> 3</td><td> 8</td></tr>\n",
       "\t<tr><td>7 </td><td> 9</td><td>4 </td><td>10</td><td>2 </td><td> 6</td><td> 5</td><td> 9</td><td> 1</td><td>10</td><td>⋯ </td><td> 6</td><td>14</td><td>18</td><td>10</td><td> 6</td><td> 7</td><td> 6</td><td>18</td><td>17</td><td> 7</td></tr>\n",
       "\t<tr><td>8 </td><td> 8</td><td>6 </td><td> 9</td><td>5 </td><td> 6</td><td>10</td><td> 4</td><td> 7</td><td>10</td><td>⋯ </td><td>13</td><td> 4</td><td> 5</td><td>14</td><td> 8</td><td>10</td><td> 7</td><td>11</td><td> 4</td><td>14</td></tr>\n",
       "\t<tr><td>3 </td><td> 9</td><td>3 </td><td> 7</td><td>4 </td><td>10</td><td> 8</td><td>11</td><td>11</td><td> 9</td><td>⋯ </td><td> 9</td><td>11</td><td> 9</td><td> 8</td><td> 8</td><td> 4</td><td>11</td><td> 6</td><td>11</td><td>11</td></tr>\n",
       "\t<tr><td>7 </td><td> 9</td><td>9 </td><td> 3</td><td>8 </td><td>10</td><td> 9</td><td> 7</td><td> 6</td><td> 5</td><td>⋯ </td><td> 9</td><td> 5</td><td> 6</td><td>13</td><td>17</td><td> 4</td><td> 8</td><td> 9</td><td>11</td><td> 6</td></tr>\n",
       "</tbody>\n",
       "</table>\n"
      ],
      "text/latex": [
       "\\begin{tabular}{llllllllllllllllllllllllllllllllllllllllllllllllllllllllllllllllllllllllllllllllllllllllllllllllllllllllllllllllllllllllllllllllllllllllllllllllllllllllllllllllllllllllllllllllllllllllllllllllllllllll}\n",
       "\t 7  &  7 & 4  &  7 & 7  &  3 &  4 & 10 &  6 &  8 & ⋯  & 10 &  7 &  9 &  5 & 11 &  4 & 12 &  8 &  7 &  6\\\\\n",
       "\t 4  & 11 & 7  &  7 & 8  &  3 & 10 &  6 &  8 &  6 & ⋯  &  4 &  3 & 12 &  9 &  8 &  8 &  8 & 11 &  3 &  8\\\\\n",
       "\t 7  &  9 & 4  & 10 & 2  &  6 &  5 &  9 &  1 & 10 & ⋯  &  6 & 14 & 18 & 10 &  6 &  7 &  6 & 18 & 17 &  7\\\\\n",
       "\t 8  &  8 & 6  &  9 & 5  &  6 & 10 &  4 &  7 & 10 & ⋯  & 13 &  4 &  5 & 14 &  8 & 10 &  7 & 11 &  4 & 14\\\\\n",
       "\t 3  &  9 & 3  &  7 & 4  & 10 &  8 & 11 & 11 &  9 & ⋯  &  9 & 11 &  9 &  8 &  8 &  4 & 11 &  6 & 11 & 11\\\\\n",
       "\t 7  &  9 & 9  &  3 & 8  & 10 &  9 &  7 &  6 &  5 & ⋯  &  9 &  5 &  6 & 13 & 17 &  4 &  8 &  9 & 11 &  6\\\\\n",
       "\\end{tabular}\n"
      ],
      "text/markdown": [
       "\n",
       "| 7  |  7 | 4  |  7 | 7  |  3 |  4 | 10 |  6 |  8 | ⋯  | 10 |  7 |  9 |  5 | 11 |  4 | 12 |  8 |  7 |  6 | \n",
       "| 4  | 11 | 7  |  7 | 8  |  3 | 10 |  6 |  8 |  6 | ⋯  |  4 |  3 | 12 |  9 |  8 |  8 |  8 | 11 |  3 |  8 | \n",
       "| 7  |  9 | 4  | 10 | 2  |  6 |  5 |  9 |  1 | 10 | ⋯  |  6 | 14 | 18 | 10 |  6 |  7 |  6 | 18 | 17 |  7 | \n",
       "| 8  |  8 | 6  |  9 | 5  |  6 | 10 |  4 |  7 | 10 | ⋯  | 13 |  4 |  5 | 14 |  8 | 10 |  7 | 11 |  4 | 14 | \n",
       "| 3  |  9 | 3  |  7 | 4  | 10 |  8 | 11 | 11 |  9 | ⋯  |  9 | 11 |  9 |  8 |  8 |  4 | 11 |  6 | 11 | 11 | \n",
       "| 7  |  9 | 9  |  3 | 8  | 10 |  9 |  7 |  6 |  5 | ⋯  |  9 |  5 |  6 | 13 | 17 |  4 |  8 |  9 | 11 |  6 | \n",
       "\n",
       "\n"
      ],
      "text/plain": [
       "     [,1] [,2] [,3] [,4] [,5] [,6] [,7] [,8] [,9] [,10] [,11] [,12] [,13] [,14]\n",
       "[1,] 7     7   4     7   7     3    4   10    6    8    ⋯     10     7     9   \n",
       "[2,] 4    11   7     7   8     3   10    6    8    6    ⋯      4     3    12   \n",
       "[3,] 7     9   4    10   2     6    5    9    1   10    ⋯      6    14    18   \n",
       "[4,] 8     8   6     9   5     6   10    4    7   10    ⋯     13     4     5   \n",
       "[5,] 3     9   3     7   4    10    8   11   11    9    ⋯      9    11     9   \n",
       "[6,] 7     9   9     3   8    10    9    7    6    5    ⋯      9     5     6   \n",
       "     [,15] [,16] [,17] [,18] [,19] [,20] [,21]\n",
       "[1,]  5    11     4    12     8     7     6   \n",
       "[2,]  9     8     8     8    11     3     8   \n",
       "[3,] 10     6     7     6    18    17     7   \n",
       "[4,] 14     8    10     7    11     4    14   \n",
       "[5,]  8     8     4    11     6    11    11   \n",
       "[6,] 13    17     4     8     9    11     6   "
      ]
     },
     "metadata": {},
     "output_type": "display_data"
    }
   ],
   "source": [
    "head(m.data)"
   ]
  },
  {
   "cell_type": "code",
   "execution_count": 20,
   "metadata": {},
   "outputs": [
    {
     "data": {
      "text/html": [
       "<ol class=list-inline>\n",
       "\t<li>50</li>\n",
       "\t<li>200</li>\n",
       "</ol>\n"
      ],
      "text/latex": [
       "\\begin{enumerate*}\n",
       "\\item 50\n",
       "\\item 200\n",
       "\\end{enumerate*}\n"
      ],
      "text/markdown": [
       "1. 50\n",
       "2. 200\n",
       "\n",
       "\n"
      ],
      "text/plain": [
       "[1]  50 200"
      ]
     },
     "metadata": {},
     "output_type": "display_data"
    }
   ],
   "source": [
    "dim(m.data)"
   ]
  },
  {
   "cell_type": "code",
   "execution_count": 21,
   "metadata": {},
   "outputs": [
    {
     "data": {
      "text/html": [
       "<ol class=list-inline>\n",
       "\t<li>'m.data'</li>\n",
       "\t<li>'v.mle'</li>\n",
       "\t<li>'m.mle'</li>\n",
       "\t<li>'v.mean.mle'</li>\n",
       "\t<li>'v.ll'</li>\n",
       "</ol>\n"
      ],
      "text/latex": [
       "\\begin{enumerate*}\n",
       "\\item 'm.data'\n",
       "\\item 'v.mle'\n",
       "\\item 'm.mle'\n",
       "\\item 'v.mean.mle'\n",
       "\\item 'v.ll'\n",
       "\\end{enumerate*}\n"
      ],
      "text/markdown": [
       "1. 'm.data'\n",
       "2. 'v.mle'\n",
       "3. 'm.mle'\n",
       "4. 'v.mean.mle'\n",
       "5. 'v.ll'\n",
       "\n",
       "\n"
      ],
      "text/plain": [
       "[1] \"m.data\"     \"v.mle\"      \"m.mle\"      \"v.mean.mle\" \"v.ll\"      "
      ]
     },
     "metadata": {},
     "output_type": "display_data"
    }
   ],
   "source": [
    "data"
   ]
  },
  {
   "cell_type": "code",
   "execution_count": null,
   "metadata": {},
   "outputs": [],
   "source": []
  }
 ],
 "metadata": {
  "kernelspec": {
   "display_name": "R",
   "language": "R",
   "name": "ir"
  },
  "language_info": {
   "codemirror_mode": "r",
   "file_extension": ".r",
   "mimetype": "text/x-r-source",
   "name": "R",
   "pygments_lexer": "r",
   "version": "3.4.2"
  }
 },
 "nbformat": 4,
 "nbformat_minor": 2
}
