{
 "cells": [
  {
   "cell_type": "markdown",
   "metadata": {},
   "source": [
    "<h1>Chapter3: Generalized Linear Model</h1>\n",
    "<h2>Poisson regression</h2>"
   ]
  },
  {
   "cell_type": "markdown",
   "metadata": {},
   "source": [
    "<p>In this notebook, <br>**1.we implement poisson regression to describe how $\\lambda$, the mean of the target variable(y<sub>i</sub>), changes depending on the value of the dependent variables<br> 2. we illustrate why and when generalized linear model can be preferable over linear model**</p>\n",
    "<p>In the last notebook, we assumed that each y<sub>i</sub>(the number of seeds each plant has) comes from the same poisson distribution: $\\Pr$(y|$\\lambda) = \\frac{\\lambda^ye(-\\lambda)}{y!}$</p>\n",
    "<p>This time we assume that y<sub>i</sub> comes from a poisson distribution parameterized different $\\lambda_i$ : $\\Pr$(y<sub>i</sub>|$\\lambda_i) = \\frac{\\lambda^y_ie(-\\lambda)}{y_i!}$</p>"
   ]
  },
  {
   "cell_type": "code",
   "execution_count": 1,
   "metadata": {},
   "outputs": [],
   "source": [
    "import pandas as pd\n",
    "import matplotlib.pyplot as plt\n",
    "import numpy as np\n",
    "%matplotlib inline\n",
    "import seaborn as sns\n",
    "sns.set()"
   ]
  },
  {
   "cell_type": "code",
   "execution_count": 2,
   "metadata": {},
   "outputs": [
    {
     "name": "stdout",
     "output_type": "stream",
     "text": [
      "data3a.csv  data_R.csv\r\n"
     ]
    }
   ],
   "source": [
    "ls ../data"
   ]
  },
  {
   "cell_type": "code",
   "execution_count": 3,
   "metadata": {},
   "outputs": [],
   "source": [
    "df = pd.read_csv('../data/data3a.csv')"
   ]
  },
  {
   "cell_type": "markdown",
   "metadata": {},
   "source": [
    "<h1>Description of dataset (fictional data)</h1>\n",
    "<body>\n",
    "    <p>Row: each row represents some kind of plant.</p>\n",
    "    <p>Column</p>\n",
    "    <ol>\n",
    "        <li>y: a target variable( the number of seeds each plant has)</li>\n",
    "        <li>x: the size of plants(this can be thought of as petal length (in cm) as an example)</li>\n",
    "        <li>f: this takes on two values. C = control group (no treatment is given to this group), T = treatment group (\n",
    "fertilization treatment is given to this group). Each group contains 50 plants respectively.</li>\n",
    "    </ol>\n",
    "</body>"
   ]
  },
  {
   "cell_type": "markdown",
   "metadata": {},
   "source": [
    "<h2>What we are trying to analyze:</h2>\n",
    "<h3>We want to see the effects of the size of plants and treatment on the number of seeds plants have</h3>"
   ]
  },
  {
   "cell_type": "code",
   "execution_count": 4,
   "metadata": {},
   "outputs": [
    {
     "data": {
      "text/html": [
       "<div>\n",
       "<style>\n",
       "    .dataframe thead tr:only-child th {\n",
       "        text-align: right;\n",
       "    }\n",
       "\n",
       "    .dataframe thead th {\n",
       "        text-align: left;\n",
       "    }\n",
       "\n",
       "    .dataframe tbody tr th {\n",
       "        vertical-align: top;\n",
       "    }\n",
       "</style>\n",
       "<table border=\"1\" class=\"dataframe\">\n",
       "  <thead>\n",
       "    <tr style=\"text-align: right;\">\n",
       "      <th></th>\n",
       "      <th>y</th>\n",
       "      <th>x</th>\n",
       "      <th>f</th>\n",
       "    </tr>\n",
       "  </thead>\n",
       "  <tbody>\n",
       "    <tr>\n",
       "      <th>0</th>\n",
       "      <td>6</td>\n",
       "      <td>8.31</td>\n",
       "      <td>C</td>\n",
       "    </tr>\n",
       "    <tr>\n",
       "      <th>1</th>\n",
       "      <td>6</td>\n",
       "      <td>9.44</td>\n",
       "      <td>C</td>\n",
       "    </tr>\n",
       "    <tr>\n",
       "      <th>2</th>\n",
       "      <td>6</td>\n",
       "      <td>9.50</td>\n",
       "      <td>C</td>\n",
       "    </tr>\n",
       "    <tr>\n",
       "      <th>3</th>\n",
       "      <td>12</td>\n",
       "      <td>9.07</td>\n",
       "      <td>C</td>\n",
       "    </tr>\n",
       "    <tr>\n",
       "      <th>4</th>\n",
       "      <td>10</td>\n",
       "      <td>10.16</td>\n",
       "      <td>C</td>\n",
       "    </tr>\n",
       "  </tbody>\n",
       "</table>\n",
       "</div>"
      ],
      "text/plain": [
       "    y      x  f\n",
       "0   6   8.31  C\n",
       "1   6   9.44  C\n",
       "2   6   9.50  C\n",
       "3  12   9.07  C\n",
       "4  10  10.16  C"
      ]
     },
     "execution_count": 4,
     "metadata": {},
     "output_type": "execute_result"
    }
   ],
   "source": [
    "df.head()"
   ]
  },
  {
   "cell_type": "code",
   "execution_count": 5,
   "metadata": {},
   "outputs": [
    {
     "data": {
      "text/html": [
       "<div>\n",
       "<style>\n",
       "    .dataframe thead tr:only-child th {\n",
       "        text-align: right;\n",
       "    }\n",
       "\n",
       "    .dataframe thead th {\n",
       "        text-align: left;\n",
       "    }\n",
       "\n",
       "    .dataframe tbody tr th {\n",
       "        vertical-align: top;\n",
       "    }\n",
       "</style>\n",
       "<table border=\"1\" class=\"dataframe\">\n",
       "  <thead>\n",
       "    <tr style=\"text-align: right;\">\n",
       "      <th></th>\n",
       "      <th>f</th>\n",
       "    </tr>\n",
       "  </thead>\n",
       "  <tbody>\n",
       "    <tr>\n",
       "      <th>count</th>\n",
       "      <td>100</td>\n",
       "    </tr>\n",
       "    <tr>\n",
       "      <th>unique</th>\n",
       "      <td>2</td>\n",
       "    </tr>\n",
       "    <tr>\n",
       "      <th>top</th>\n",
       "      <td>T</td>\n",
       "    </tr>\n",
       "    <tr>\n",
       "      <th>freq</th>\n",
       "      <td>50</td>\n",
       "    </tr>\n",
       "  </tbody>\n",
       "</table>\n",
       "</div>"
      ],
      "text/plain": [
       "          f\n",
       "count   100\n",
       "unique    2\n",
       "top       T\n",
       "freq     50"
      ]
     },
     "execution_count": 5,
     "metadata": {},
     "output_type": "execute_result"
    }
   ],
   "source": [
    "df.describe(include=['O'])"
   ]
  },
  {
   "cell_type": "code",
   "execution_count": 6,
   "metadata": {},
   "outputs": [
    {
     "data": {
      "text/html": [
       "<div>\n",
       "<style>\n",
       "    .dataframe thead tr:only-child th {\n",
       "        text-align: right;\n",
       "    }\n",
       "\n",
       "    .dataframe thead th {\n",
       "        text-align: left;\n",
       "    }\n",
       "\n",
       "    .dataframe tbody tr th {\n",
       "        vertical-align: top;\n",
       "    }\n",
       "</style>\n",
       "<table border=\"1\" class=\"dataframe\">\n",
       "  <thead>\n",
       "    <tr style=\"text-align: right;\">\n",
       "      <th></th>\n",
       "      <th>y</th>\n",
       "      <th>x</th>\n",
       "      <th>f</th>\n",
       "    </tr>\n",
       "  </thead>\n",
       "  <tbody>\n",
       "    <tr>\n",
       "      <th>count</th>\n",
       "      <td>100.000000</td>\n",
       "      <td>100.000000</td>\n",
       "      <td>100</td>\n",
       "    </tr>\n",
       "    <tr>\n",
       "      <th>unique</th>\n",
       "      <td>NaN</td>\n",
       "      <td>NaN</td>\n",
       "      <td>2</td>\n",
       "    </tr>\n",
       "    <tr>\n",
       "      <th>top</th>\n",
       "      <td>NaN</td>\n",
       "      <td>NaN</td>\n",
       "      <td>T</td>\n",
       "    </tr>\n",
       "    <tr>\n",
       "      <th>freq</th>\n",
       "      <td>NaN</td>\n",
       "      <td>NaN</td>\n",
       "      <td>50</td>\n",
       "    </tr>\n",
       "    <tr>\n",
       "      <th>mean</th>\n",
       "      <td>7.830000</td>\n",
       "      <td>10.089100</td>\n",
       "      <td>NaN</td>\n",
       "    </tr>\n",
       "    <tr>\n",
       "      <th>std</th>\n",
       "      <td>2.624881</td>\n",
       "      <td>1.008049</td>\n",
       "      <td>NaN</td>\n",
       "    </tr>\n",
       "    <tr>\n",
       "      <th>min</th>\n",
       "      <td>2.000000</td>\n",
       "      <td>7.190000</td>\n",
       "      <td>NaN</td>\n",
       "    </tr>\n",
       "    <tr>\n",
       "      <th>25%</th>\n",
       "      <td>6.000000</td>\n",
       "      <td>9.427500</td>\n",
       "      <td>NaN</td>\n",
       "    </tr>\n",
       "    <tr>\n",
       "      <th>50%</th>\n",
       "      <td>8.000000</td>\n",
       "      <td>10.155000</td>\n",
       "      <td>NaN</td>\n",
       "    </tr>\n",
       "    <tr>\n",
       "      <th>75%</th>\n",
       "      <td>10.000000</td>\n",
       "      <td>10.685000</td>\n",
       "      <td>NaN</td>\n",
       "    </tr>\n",
       "    <tr>\n",
       "      <th>max</th>\n",
       "      <td>15.000000</td>\n",
       "      <td>12.400000</td>\n",
       "      <td>NaN</td>\n",
       "    </tr>\n",
       "  </tbody>\n",
       "</table>\n",
       "</div>"
      ],
      "text/plain": [
       "                 y           x    f\n",
       "count   100.000000  100.000000  100\n",
       "unique         NaN         NaN    2\n",
       "top            NaN         NaN    T\n",
       "freq           NaN         NaN   50\n",
       "mean      7.830000   10.089100  NaN\n",
       "std       2.624881    1.008049  NaN\n",
       "min       2.000000    7.190000  NaN\n",
       "25%       6.000000    9.427500  NaN\n",
       "50%       8.000000   10.155000  NaN\n",
       "75%      10.000000   10.685000  NaN\n",
       "max      15.000000   12.400000  NaN"
      ]
     },
     "execution_count": 6,
     "metadata": {},
     "output_type": "execute_result"
    }
   ],
   "source": [
    "df.describe(include='all')"
   ]
  },
  {
   "cell_type": "code",
   "execution_count": 7,
   "metadata": {},
   "outputs": [
    {
     "name": "stdout",
     "output_type": "stream",
     "text": [
      "<class 'pandas.core.frame.DataFrame'>\n",
      "RangeIndex: 100 entries, 0 to 99\n",
      "Data columns (total 3 columns):\n",
      "y    100 non-null int64\n",
      "x    100 non-null float64\n",
      "f    100 non-null object\n",
      "dtypes: float64(1), int64(1), object(1)\n",
      "memory usage: 2.4+ KB\n"
     ]
    }
   ],
   "source": [
    "df.info() "
   ]
  },
  {
   "cell_type": "code",
   "execution_count": null,
   "metadata": {},
   "outputs": [],
   "source": []
  },
  {
   "cell_type": "code",
   "execution_count": 8,
   "metadata": {},
   "outputs": [
    {
     "data": {
      "image/png": "[encoded data removed]",
      "text/plain": [
       "<matplotlib.figure.Figure at 0x1a111e4fd0>"
      ]
     },
     "metadata": {},
     "output_type": "display_data"
    }
   ],
   "source": [
    "colors = ['red', 'blue']\n",
    "factors = ['C', 'T']\n",
    "for factor, color in zip(factors, colors):\n",
    "    plt.scatter(df[df['f']==factor]['x'], df[df['f']==factor]['y'], c=color, label=factor)\n",
    "    plt.legend()\n",
    "plt.xlabel(\"size of plants\")\n",
    "plt.ylabel(\"the number of seeds\")\n",
    "plt.title(\"Relationship between plant size and the number of seeds it contains\")\n",
    "plt.show()"
   ]
  },
  {
   "cell_type": "code",
   "execution_count": 9,
   "metadata": {},
   "outputs": [
    {
     "data": {
      "image/png": "[encoded data removed]",
      "text/plain": [
       "<matplotlib.figure.Figure at 0x10a4aa630>"
      ]
     },
     "metadata": {},
     "output_type": "display_data"
    }
   ],
   "source": [
    "sns.boxplot(x=\"f\", y=\"y\", data=df)\n",
    "plt.ylabel(\"the number of seeds\")\n",
    "plt.xlabel(\"control vs treatment\")\n",
    "plt.title(\"Relationship between treatment and the number of seeds it contains\")\n",
    "plt.show()"
   ]
  },
  {
   "cell_type": "markdown",
   "metadata": {},
   "source": [
    "<h2>Linear predictor and log-link function</h2>\n",
    "<body>\n",
    "    <p>We assume that $\\lambda_i$(mean of the number of seeds for each plant) is an output of a function of x<sub>i</sub></p>\n",
    "    <p>$\\lambda_i = exp(\\beta_1 + \\beta_2 X_i$)</p>\n",
    "    <p>where $\\beta_1$ is an intercept and $\\beta_2$ is a slope</p>\n",
    "    <p>Let's plot this function with differnet $\\beta$'s below</p>\n",
    "</body>"
   ]
  },
  {
   "cell_type": "code",
   "execution_count": 10,
   "metadata": {},
   "outputs": [],
   "source": [
    "def expo_link(beta_1, beta_2):\n",
    "    \"\"\"show the exponential function for different beta\"\"\"\n",
    "    x = np.arange(-5, 6)\n",
    "    lambda_i = np.exp(beta_1 + beta_2 * x)\n",
    "    plt.plot(x, lambda_i, label=r'$\\beta_1={0}, \\beta_2={1}$'.format(beta_1, beta_2))\n",
    "    plt.ylim([0, 3.0])\n",
    "    plt.xlabel('X')\n",
    "    plt.ylabel(r'exp($\\beta_1 + \\beta_2*x_i$)')\n",
    "    plt.vlines(0,ymin=0, ymax=3.0, linestyles='dashed')\n",
    "    plt.title(r\"Exponential function: exp($\\beta_1 + \\beta_2*x_i$)\")\n",
    "    plt.legend(loc='upper right')"
   ]
  },
  {
   "cell_type": "code",
   "execution_count": 11,
   "metadata": {},
   "outputs": [
    {
     "data": {
      "image/png": "[encoded data removed]",
      "text/plain": [
       "<matplotlib.figure.Figure at 0x1a197c6550>"
      ]
     },
     "metadata": {},
     "output_type": "display_data"
    }
   ],
   "source": [
    "betas = [[-2, -0.8], [-1, 0.4]]\n",
    "plt.figure(figsize=(10, 5))\n",
    "for beta in betas:\n",
    "    expo_link(*beta)"
   ]
  },
  {
   "cell_type": "markdown",
   "metadata": {},
   "source": [
    "<p>If we take the log of the exponential function above, we can write the function as: </p>\n",
    "<p>log $\\lambda_i$ = $\\beta_1 + \\beta_2$*x<sub>i</sub></p>\n",
    "<p>The right-hand side is called \"linear predictor\" since it is a linear combination of $\\beta$'s</p>\n",
    "<p>The left-hand side is called \"link function\". Link function takes the following form:<br> g($\\mu_i$) (a function of mean of some parameter) = $\\beta_1$ + $\\beta_2$ * x<sub>i</sub> ... (linear predictor)</p>"
   ]
  },
  {
   "cell_type": "markdown",
   "metadata": {},
   "source": [
    "<p>A function we use here is called \"log link function\" because we take the log of link function</p>"
   ]
  },
  {
   "cell_type": "markdown",
   "metadata": {},
   "source": [
    "<head>\n",
    "  <h2>Fitting Poisson regression</h2>\n",
    "  <p>Fitting ultimately means determining the values of $\\hat{\\beta_1}, \\hat{\\beta_2}$(estimates of true intercept and slope, $\\beta_1, \\beta_2$), using maximum log-likelihood.</p>\n",
    "  <p>Log-liklihood of Poisson regression is: </p>\n",
    "  <p>logL($\\beta_1, \\beta_2$) = $\\sum_i$*log*$\\frac{\\lambda_i^{y_i} exp(-\\lambda_i)}{y_i!}$</p>\n",
    "    <p>where $\\lambda_i = exp(\\beta_1 + \\beta_2 x_i)$</p>\n",
    "</head>"
   ]
  },
  {
   "cell_type": "code",
   "execution_count": null,
   "metadata": {},
   "outputs": [],
   "source": []
  },
  {
   "cell_type": "code",
   "execution_count": 12,
   "metadata": {},
   "outputs": [
    {
     "name": "stderr",
     "output_type": "stream",
     "text": [
      "/Users/kentasuzuki/anaconda3/lib/python3.5/site-packages/statsmodels/compat/pandas.py:56: FutureWarning: The pandas.core.datetools module is deprecated and will be removed in a future version. Please use the pandas.tseries module instead.\n",
      "  from pandas.core import datetools\n"
     ]
    }
   ],
   "source": [
    "import statsmodels.api as sm"
   ]
  },
  {
   "cell_type": "code",
   "execution_count": 13,
   "metadata": {},
   "outputs": [],
   "source": [
    "# specifiy that we use x as a feature and add a constant term\n",
    "data_exog = sm.add_constant(df['x'])\n",
    "# creat a  regression using Poisson distribution\n",
    "poisson_model = sm.GLM(df['y'], data_exog, family=sm.families.Poisson())"
   ]
  },
  {
   "cell_type": "code",
   "execution_count": 14,
   "metadata": {},
   "outputs": [],
   "source": [
    "# fit a regression\n",
    "poisson_results = poisson_model.fit()"
   ]
  },
  {
   "cell_type": "code",
   "execution_count": 15,
   "metadata": {},
   "outputs": [
    {
     "data": {
      "text/html": [
       "<table class=\"simpletable\">\n",
       "<caption>Generalized Linear Model Regression Results</caption>\n",
       "<tr>\n",
       "  <th>Dep. Variable:</th>          <td>y</td>        <th>  No. Observations:  </th>  <td>   100</td> \n",
       "</tr>\n",
       "<tr>\n",
       "  <th>Model:</th>                 <td>GLM</td>       <th>  Df Residuals:      </th>  <td>    98</td> \n",
       "</tr>\n",
       "<tr>\n",
       "  <th>Model Family:</th>        <td>Poisson</td>     <th>  Df Model:          </th>  <td>     1</td> \n",
       "</tr>\n",
       "<tr>\n",
       "  <th>Link Function:</th>         <td>log</td>       <th>  Scale:             </th>    <td>1.0</td>  \n",
       "</tr>\n",
       "<tr>\n",
       "  <th>Method:</th>               <td>IRLS</td>       <th>  Log-Likelihood:    </th> <td> -235.39</td>\n",
       "</tr>\n",
       "<tr>\n",
       "  <th>Date:</th>           <td>Mon, 08 Oct 2018</td> <th>  Deviance:          </th> <td>  84.993</td>\n",
       "</tr>\n",
       "<tr>\n",
       "  <th>Time:</th>               <td>23:12:59</td>     <th>  Pearson chi2:      </th>  <td>  83.8</td> \n",
       "</tr>\n",
       "<tr>\n",
       "  <th>No. Iterations:</th>         <td>4</td>        <th>                     </th>     <td> </td>   \n",
       "</tr>\n",
       "</table>\n",
       "<table class=\"simpletable\">\n",
       "<tr>\n",
       "    <td></td>       <th>coef</th>     <th>std err</th>      <th>z</th>      <th>P>|z|</th>  <th>[0.025</th>    <th>0.975]</th>  \n",
       "</tr>\n",
       "<tr>\n",
       "  <th>const</th> <td>    1.2917</td> <td>    0.364</td> <td>    3.552</td> <td> 0.000</td> <td>    0.579</td> <td>    2.005</td>\n",
       "</tr>\n",
       "<tr>\n",
       "  <th>x</th>     <td>    0.0757</td> <td>    0.036</td> <td>    2.125</td> <td> 0.034</td> <td>    0.006</td> <td>    0.145</td>\n",
       "</tr>\n",
       "</table>"
      ],
      "text/plain": [
       "<class 'statsmodels.iolib.summary.Summary'>\n",
       "\"\"\"\n",
       "                 Generalized Linear Model Regression Results                  \n",
       "==============================================================================\n",
       "Dep. Variable:                      y   No. Observations:                  100\n",
       "Model:                            GLM   Df Residuals:                       98\n",
       "Model Family:                 Poisson   Df Model:                            1\n",
       "Link Function:                    log   Scale:                             1.0\n",
       "Method:                          IRLS   Log-Likelihood:                -235.39\n",
       "Date:                Mon, 08 Oct 2018   Deviance:                       84.993\n",
       "Time:                        23:12:59   Pearson chi2:                     83.8\n",
       "No. Iterations:                     4                                         \n",
       "==============================================================================\n",
       "                 coef    std err          z      P>|z|      [0.025      0.975]\n",
       "------------------------------------------------------------------------------\n",
       "const          1.2917      0.364      3.552      0.000       0.579       2.005\n",
       "x              0.0757      0.036      2.125      0.034       0.006       0.145\n",
       "==============================================================================\n",
       "\"\"\""
      ]
     },
     "execution_count": 15,
     "metadata": {},
     "output_type": "execute_result"
    }
   ],
   "source": [
    "poisson_results.summary()"
   ]
  },
  {
   "cell_type": "code",
   "execution_count": null,
   "metadata": {},
   "outputs": [],
   "source": []
  },
  {
   "cell_type": "markdown",
   "metadata": {},
   "source": [
    "<p>We can see estimates: $\\hat{\\beta_1} = 1.29, \\hat{\\beta_2} = 0.075$</p>"
   ]
  },
  {
   "cell_type": "markdown",
   "metadata": {},
   "source": [
    "<p>Visualize the prediction line using a fitted model, $\\lambda_i = exp(1.29 + 0.0757 x_i)$ </p>"
   ]
  },
  {
   "cell_type": "code",
   "execution_count": 73,
   "metadata": {},
   "outputs": [
    {
     "data": {
      "image/png": "[encoded data removed]",
      "text/plain": [
       "<matplotlib.figure.Figure at 0x1c1673e048>"
      ]
     },
     "metadata": {},
     "output_type": "display_data"
    }
   ],
   "source": [
    "colors = ['red', 'blue']\n",
    "factors = ['C', 'T']\n",
    "for factor, color in zip(factors, colors):\n",
    "    plt.scatter(df[df['f']==factor]['x'], df[df['f']==factor]['y'], c=color, label=factor)\n",
    "    plt.legend()\n",
    "xx = np.linspace(np.min(df['x']), np.max(df['x']),100)\n",
    "plt.plot(xx, np.exp(1.2917 + 0.0757*xx))\n",
    "plt.xlabel(\"X (size of a plant)\")\n",
    "plt.ylabel(\"Y (the number of seeds each plant has)\")\n",
    "plt.title(\"Poisson regression line\")\n",
    "plt.show()"
   ]
  },
  {
   "cell_type": "markdown",
   "metadata": {},
   "source": [
    "<h3> Fitting Poisson regresion with treatment variable, f<sub>i</sub>, to see if \n",
    "there is any effect of fertilization on the number of seeds</h3>\n",
    "\n",
    "<p>$\\lambda_i$ = exp($\\beta_1 + \\beta_3 d_i$)</p>\n",
    "<p>We create a dummy variable such that d<sub>i</sub> = 0 if f<sub>i</sub> = C else 1 (if f<sub>i</sub> = T)</p>\n",
    "<p>That means, $\\lambda_i$ = exp($\\beta_1$) if f<sub>i</sub> = C , $\\lambda_i$ = exp($\\beta_1 + \\beta_3 d_i$)\n",
    "    if f<sub>i</sub> = T</p>"
   ]
  },
  {
   "cell_type": "code",
   "execution_count": 74,
   "metadata": {},
   "outputs": [
    {
     "name": "stdout",
     "output_type": "stream",
     "text": [
      "['C' 'T']\n"
     ]
    }
   ],
   "source": [
    "print(np.unique(df['f']))"
   ]
  },
  {
   "cell_type": "code",
   "execution_count": 75,
   "metadata": {},
   "outputs": [],
   "source": [
    "# create a dummy varaible\n",
    "f_dummy = df['f'].map({'C':0, 'T':1})"
   ]
  },
  {
   "cell_type": "code",
   "execution_count": 76,
   "metadata": {},
   "outputs": [],
   "source": [
    "data_exog_f = sm.add_constant(f_dummy)\n",
    "poisson_model_f = sm.GLM(df['y'], data_exog_f, family=sm.families.Poisson())"
   ]
  },
  {
   "cell_type": "code",
   "execution_count": 77,
   "metadata": {},
   "outputs": [],
   "source": [
    "poisson_f_results = poisson_model_f.fit()"
   ]
  },
  {
   "cell_type": "code",
   "execution_count": 78,
   "metadata": {},
   "outputs": [
    {
     "data": {
      "text/html": [
       "<table class=\"simpletable\">\n",
       "<caption>Generalized Linear Model Regression Results</caption>\n",
       "<tr>\n",
       "  <th>Dep. Variable:</th>          <td>y</td>        <th>  No. Observations:  </th>  <td>   100</td> \n",
       "</tr>\n",
       "<tr>\n",
       "  <th>Model:</th>                 <td>GLM</td>       <th>  Df Residuals:      </th>  <td>    98</td> \n",
       "</tr>\n",
       "<tr>\n",
       "  <th>Model Family:</th>        <td>Poisson</td>     <th>  Df Model:          </th>  <td>     1</td> \n",
       "</tr>\n",
       "<tr>\n",
       "  <th>Link Function:</th>         <td>log</td>       <th>  Scale:             </th>    <td>1.0</td>  \n",
       "</tr>\n",
       "<tr>\n",
       "  <th>Method:</th>               <td>IRLS</td>       <th>  Log-Likelihood:    </th> <td> -237.63</td>\n",
       "</tr>\n",
       "<tr>\n",
       "  <th>Date:</th>           <td>Sun, 07 Oct 2018</td> <th>  Deviance:          </th> <td>  89.475</td>\n",
       "</tr>\n",
       "<tr>\n",
       "  <th>Time:</th>               <td>02:59:10</td>     <th>  Pearson chi2:      </th>  <td>  87.1</td> \n",
       "</tr>\n",
       "<tr>\n",
       "  <th>No. Iterations:</th>         <td>4</td>        <th>                     </th>     <td> </td>   \n",
       "</tr>\n",
       "</table>\n",
       "<table class=\"simpletable\">\n",
       "<tr>\n",
       "    <td></td>       <th>coef</th>     <th>std err</th>      <th>z</th>      <th>P>|z|</th>  <th>[0.025</th>    <th>0.975]</th>  \n",
       "</tr>\n",
       "<tr>\n",
       "  <th>const</th> <td>    2.0516</td> <td>    0.051</td> <td>   40.463</td> <td> 0.000</td> <td>    1.952</td> <td>    2.151</td>\n",
       "</tr>\n",
       "<tr>\n",
       "  <th>f</th>     <td>    0.0128</td> <td>    0.071</td> <td>    0.179</td> <td> 0.858</td> <td>   -0.127</td> <td>    0.153</td>\n",
       "</tr>\n",
       "</table>"
      ],
      "text/plain": [
       "<class 'statsmodels.iolib.summary.Summary'>\n",
       "\"\"\"\n",
       "                 Generalized Linear Model Regression Results                  \n",
       "==============================================================================\n",
       "Dep. Variable:                      y   No. Observations:                  100\n",
       "Model:                            GLM   Df Residuals:                       98\n",
       "Model Family:                 Poisson   Df Model:                            1\n",
       "Link Function:                    log   Scale:                             1.0\n",
       "Method:                          IRLS   Log-Likelihood:                -237.63\n",
       "Date:                Sun, 07 Oct 2018   Deviance:                       89.475\n",
       "Time:                        02:59:10   Pearson chi2:                     87.1\n",
       "No. Iterations:                     4                                         \n",
       "==============================================================================\n",
       "                 coef    std err          z      P>|z|      [0.025      0.975]\n",
       "------------------------------------------------------------------------------\n",
       "const          2.0516      0.051     40.463      0.000       1.952       2.151\n",
       "f              0.0128      0.071      0.179      0.858      -0.127       0.153\n",
       "==============================================================================\n",
       "\"\"\""
      ]
     },
     "execution_count": 78,
     "metadata": {},
     "output_type": "execute_result"
    }
   ],
   "source": [
    "poisson_f_results.summary()"
   ]
  },
  {
   "cell_type": "markdown",
   "metadata": {},
   "source": [
    "<p>Fitting got worse since maximum log-likelihood estimate of Poisson regresion with f<sub>i</sub> went down to -237.63 from \n",
    "    -235.39 which is the estimate using x<sub>i</sub> as a feature</p>"
   ]
  },
  {
   "cell_type": "markdown",
   "metadata": {},
   "source": [
    "<h2>Fit Poisson regression with 2 features, x<sub>i</sub>,f<sub>i</sub></h2>\n",
    "<p>log $\\lambda_i = \\beta_1 + \\beta_2 x_i+ \\beta_3 d_i$</p>\n",
    "<p>$\\beta_1$ is an intercept, $\\beta_2$ represents the effect of size of plants and $\\beta_3$ represents the effect of treatment</p>"
   ]
  },
  {
   "cell_type": "code",
   "execution_count": 79,
   "metadata": {},
   "outputs": [
    {
     "data": {
      "text/html": [
       "<div>\n",
       "<style>\n",
       "    .dataframe thead tr:only-child th {\n",
       "        text-align: right;\n",
       "    }\n",
       "\n",
       "    .dataframe thead th {\n",
       "        text-align: left;\n",
       "    }\n",
       "\n",
       "    .dataframe tbody tr th {\n",
       "        vertical-align: top;\n",
       "    }\n",
       "</style>\n",
       "<table border=\"1\" class=\"dataframe\">\n",
       "  <thead>\n",
       "    <tr style=\"text-align: right;\">\n",
       "      <th></th>\n",
       "      <th>x</th>\n",
       "      <th>f</th>\n",
       "      <th>y</th>\n",
       "    </tr>\n",
       "  </thead>\n",
       "  <tbody>\n",
       "    <tr>\n",
       "      <th>0</th>\n",
       "      <td>8.31</td>\n",
       "      <td>0</td>\n",
       "      <td>6</td>\n",
       "    </tr>\n",
       "    <tr>\n",
       "      <th>1</th>\n",
       "      <td>9.44</td>\n",
       "      <td>0</td>\n",
       "      <td>6</td>\n",
       "    </tr>\n",
       "    <tr>\n",
       "      <th>2</th>\n",
       "      <td>9.50</td>\n",
       "      <td>0</td>\n",
       "      <td>6</td>\n",
       "    </tr>\n",
       "    <tr>\n",
       "      <th>3</th>\n",
       "      <td>9.07</td>\n",
       "      <td>0</td>\n",
       "      <td>12</td>\n",
       "    </tr>\n",
       "    <tr>\n",
       "      <th>4</th>\n",
       "      <td>10.16</td>\n",
       "      <td>0</td>\n",
       "      <td>10</td>\n",
       "    </tr>\n",
       "  </tbody>\n",
       "</table>\n",
       "</div>"
      ],
      "text/plain": [
       "       x  f   y\n",
       "0   8.31  0   6\n",
       "1   9.44  0   6\n",
       "2   9.50  0   6\n",
       "3   9.07  0  12\n",
       "4  10.16  0  10"
      ]
     },
     "execution_count": 79,
     "metadata": {},
     "output_type": "execute_result"
    }
   ],
   "source": [
    "# turn panda series of X varaible to dataframe\n",
    "df_tmp = df['x'].to_frame()\n",
    "df_tmp['f'] = f_dummy\n",
    "df_tmp['y'] = df['y']\n",
    "df_tmp.head()"
   ]
  },
  {
   "cell_type": "code",
   "execution_count": 80,
   "metadata": {},
   "outputs": [],
   "source": [
    "import statsmodels.formula.api as smf\n",
    "# create Poisson regression with two features\n",
    "poisson_all = smf.glm(formula='y ~ x + f', data=df_tmp, family=sm.families.Poisson(sm.families.links.log))"
   ]
  },
  {
   "cell_type": "code",
   "execution_count": 81,
   "metadata": {},
   "outputs": [],
   "source": [
    "poisson_all_results = poisson_all.fit()"
   ]
  },
  {
   "cell_type": "code",
   "execution_count": 82,
   "metadata": {},
   "outputs": [
    {
     "data": {
      "text/html": [
       "<table class=\"simpletable\">\n",
       "<caption>Generalized Linear Model Regression Results</caption>\n",
       "<tr>\n",
       "  <th>Dep. Variable:</th>          <td>y</td>        <th>  No. Observations:  </th>  <td>   100</td> \n",
       "</tr>\n",
       "<tr>\n",
       "  <th>Model:</th>                 <td>GLM</td>       <th>  Df Residuals:      </th>  <td>    97</td> \n",
       "</tr>\n",
       "<tr>\n",
       "  <th>Model Family:</th>        <td>Poisson</td>     <th>  Df Model:          </th>  <td>     2</td> \n",
       "</tr>\n",
       "<tr>\n",
       "  <th>Link Function:</th>         <td>log</td>       <th>  Scale:             </th>    <td>1.0</td>  \n",
       "</tr>\n",
       "<tr>\n",
       "  <th>Method:</th>               <td>IRLS</td>       <th>  Log-Likelihood:    </th> <td> -235.29</td>\n",
       "</tr>\n",
       "<tr>\n",
       "  <th>Date:</th>           <td>Sun, 07 Oct 2018</td> <th>  Deviance:          </th> <td>  84.808</td>\n",
       "</tr>\n",
       "<tr>\n",
       "  <th>Time:</th>               <td>02:59:12</td>     <th>  Pearson chi2:      </th>  <td>  83.8</td> \n",
       "</tr>\n",
       "<tr>\n",
       "  <th>No. Iterations:</th>         <td>4</td>        <th>                     </th>     <td> </td>   \n",
       "</tr>\n",
       "</table>\n",
       "<table class=\"simpletable\">\n",
       "<tr>\n",
       "      <td></td>         <th>coef</th>     <th>std err</th>      <th>z</th>      <th>P>|z|</th>  <th>[0.025</th>    <th>0.975]</th>  \n",
       "</tr>\n",
       "<tr>\n",
       "  <th>Intercept</th> <td>    1.2631</td> <td>    0.370</td> <td>    3.417</td> <td> 0.001</td> <td>    0.539</td> <td>    1.988</td>\n",
       "</tr>\n",
       "<tr>\n",
       "  <th>x</th>         <td>    0.0801</td> <td>    0.037</td> <td>    2.162</td> <td> 0.031</td> <td>    0.007</td> <td>    0.153</td>\n",
       "</tr>\n",
       "<tr>\n",
       "  <th>f</th>         <td>   -0.0320</td> <td>    0.074</td> <td>   -0.430</td> <td> 0.667</td> <td>   -0.178</td> <td>    0.114</td>\n",
       "</tr>\n",
       "</table>"
      ],
      "text/plain": [
       "<class 'statsmodels.iolib.summary.Summary'>\n",
       "\"\"\"\n",
       "                 Generalized Linear Model Regression Results                  \n",
       "==============================================================================\n",
       "Dep. Variable:                      y   No. Observations:                  100\n",
       "Model:                            GLM   Df Residuals:                       97\n",
       "Model Family:                 Poisson   Df Model:                            2\n",
       "Link Function:                    log   Scale:                             1.0\n",
       "Method:                          IRLS   Log-Likelihood:                -235.29\n",
       "Date:                Sun, 07 Oct 2018   Deviance:                       84.808\n",
       "Time:                        02:59:12   Pearson chi2:                     83.8\n",
       "No. Iterations:                     4                                         \n",
       "==============================================================================\n",
       "                 coef    std err          z      P>|z|      [0.025      0.975]\n",
       "------------------------------------------------------------------------------\n",
       "Intercept      1.2631      0.370      3.417      0.001       0.539       1.988\n",
       "x              0.0801      0.037      2.162      0.031       0.007       0.153\n",
       "f             -0.0320      0.074     -0.430      0.667      -0.178       0.114\n",
       "==============================================================================\n",
       "\"\"\""
      ]
     },
     "execution_count": 82,
     "metadata": {},
     "output_type": "execute_result"
    }
   ],
   "source": [
    "poisson_all_results.summary()"
   ]
  },
  {
   "cell_type": "markdown",
   "metadata": {},
   "source": [
    "<p>MLE went up to -235.29 from -235.39, mle of regression with only X variable</p>"
   ]
  },
  {
   "cell_type": "markdown",
   "metadata": {},
   "source": [
    "<h3>Visuzlize prediction line of Poisson regresion with estimated $\\beta$'s</h3>\n",
    "<p>$\\lambda_i = exp(1.26 + 0.0801 x_i -0.032 f_i)$ </p>"
   ]
  },
  {
   "cell_type": "code",
   "execution_count": 83,
   "metadata": {},
   "outputs": [
    {
     "data": {
      "image/png": "[encoded data removed]",
      "text/plain": [
       "<matplotlib.figure.Figure at 0x1c1659f978>"
      ]
     },
     "metadata": {},
     "output_type": "display_data"
    }
   ],
   "source": [
    "colors = ['red', 'blue']\n",
    "factors = ['C', 'T']\n",
    "for factor, color in zip(factors, colors):\n",
    "    plt.scatter(df[df['f']==factor]['x'], df[df['f']==factor]['y'], c=color, label=factor)\n",
    "    plt.legend()\n",
    "xx = np.linspace(np.min(df['x']), np.max(df['x']),100)\n",
    "ff = df_tmp['f'].values\n",
    "plt.plot(xx, np.exp(1.2631 + 0.0801*xx-0.0320*ff))\n",
    "plt.xlabel(\"X\")\n",
    "plt.ylabel(\"Y\")\n",
    "plt.title(\"Poisson regression with two features\")\n",
    "plt.show()"
   ]
  },
  {
   "cell_type": "markdown",
   "metadata": {},
   "source": [
    "<h3>The effect of each feature when using log link function vs when using identity link function</h3>"
   ]
  },
  {
   "cell_type": "markdown",
   "metadata": {},
   "source": [
    "<h4>1. Log link function</h4>\n",
    "<p>$\\lambda_i = exp(1.26 + 0.0801 x_i -0.032 d_i)$ can be decomposed into the effects of each variables. </p>\n",
    "<p>$\\lambda_i = exp(1.26) * exp(0.0801 x_i) * exp(-0.032 d_i)$ = (const) * (effect of size)  *(effect of treatment) </p>\n",
    "<p> We can interpret that if size goes up by 1, the mean of the number of seeds goes up by 0.08, if treatment is given,  the mean of the number of seeds goes down by 0.032. <br>\n",
    "**Important to note**:<br>\n",
    "1. response value is non-negative because of exponentials in the right hand side equation<br>\n",
    "2. Effect of each varaible grows exponentially as the value of each variable goes up</p>\n",
    "<p>2. Identity link function</p>\n",
    "<p>This is a function when no function (such as log function) is applied to link function</p>\n",
    "<p> $\\lambda_i = 1.26 + 0.0801 x_i -0.032 d_i$</p>\n",
    "<p>**Important to note**:<br>\n",
    "    response value is an ouput from a linear relationsip of each variable which is different when using log link function incorporating the multiplicative effect of variables\n",
    "</p>"
   ]
  },
  {
   "cell_type": "code",
   "execution_count": 84,
   "metadata": {},
   "outputs": [
    {
     "data": {
      "image/png": "[encoded data removed]",
      "text/plain": [
       "<matplotlib.figure.Figure at 0x1c16721cc0>"
      ]
     },
     "metadata": {},
     "output_type": "display_data"
    }
   ],
   "source": [
    "xx = np.linspace(0, 20, 100)\n",
    "ff = [np.array([0] * 100), np.array([1] * 100)]\n",
    "labels = ['control', 'treatment']\n",
    "for i in range(2):\n",
    "    plt.plot(xx, np.exp(1.2631 + 0.08*xx-0.0320*ff[i]), label=labels[i])\n",
    "plt.xlabel(\"X(size)\")\n",
    "plt.ylabel(\"Y(the number of seeds)\")\n",
    "plt.legend()\n",
    "plt.title(\"The effet of treatment when log link function is used\")\n",
    "plt.show()"
   ]
  },
  {
   "cell_type": "code",
   "execution_count": 85,
   "metadata": {},
   "outputs": [
    {
     "name": "stderr",
     "output_type": "stream",
     "text": [
      "/Users/kentasuzuki/anaconda3/lib/python3.5/site-packages/statsmodels/genmod/generalized_linear_model.py:244: DomainWarning: The identity link function does not respect the domain of the Poisson family.\n",
      "  DomainWarning)\n"
     ]
    }
   ],
   "source": [
    "poisson_idt = smf.glm(formula='y ~ x + f', data=df_tmp, family=sm.families.Poisson(sm.families.links.identity))"
   ]
  },
  {
   "cell_type": "code",
   "execution_count": 86,
   "metadata": {},
   "outputs": [],
   "source": [
    "poisson_idt_results = poisson_idt.fit()"
   ]
  },
  {
   "cell_type": "code",
   "execution_count": 87,
   "metadata": {},
   "outputs": [
    {
     "data": {
      "text/html": [
       "<table class=\"simpletable\">\n",
       "<caption>Generalized Linear Model Regression Results</caption>\n",
       "<tr>\n",
       "  <th>Dep. Variable:</th>          <td>y</td>        <th>  No. Observations:  </th>  <td>   100</td> \n",
       "</tr>\n",
       "<tr>\n",
       "  <th>Model:</th>                 <td>GLM</td>       <th>  Df Residuals:      </th>  <td>    97</td> \n",
       "</tr>\n",
       "<tr>\n",
       "  <th>Model Family:</th>        <td>Poisson</td>     <th>  Df Model:          </th>  <td>     2</td> \n",
       "</tr>\n",
       "<tr>\n",
       "  <th>Link Function:</th>      <td>identity</td>     <th>  Scale:             </th>    <td>1.0</td>  \n",
       "</tr>\n",
       "<tr>\n",
       "  <th>Method:</th>               <td>IRLS</td>       <th>  Log-Likelihood:    </th> <td> -235.16</td>\n",
       "</tr>\n",
       "<tr>\n",
       "  <th>Date:</th>           <td>Sun, 07 Oct 2018</td> <th>  Deviance:          </th> <td>  84.538</td>\n",
       "</tr>\n",
       "<tr>\n",
       "  <th>Time:</th>               <td>02:59:16</td>     <th>  Pearson chi2:      </th>  <td>  83.6</td> \n",
       "</tr>\n",
       "<tr>\n",
       "  <th>No. Iterations:</th>         <td>5</td>        <th>                     </th>     <td> </td>   \n",
       "</tr>\n",
       "</table>\n",
       "<table class=\"simpletable\">\n",
       "<tr>\n",
       "      <td></td>         <th>coef</th>     <th>std err</th>      <th>z</th>      <th>P>|z|</th>  <th>[0.025</th>    <th>0.975]</th>  \n",
       "</tr>\n",
       "<tr>\n",
       "  <th>Intercept</th> <td>    1.2671</td> <td>    2.843</td> <td>    0.446</td> <td> 0.656</td> <td>   -4.306</td> <td>    6.840</td>\n",
       "</tr>\n",
       "<tr>\n",
       "  <th>x</th>         <td>    0.6606</td> <td>    0.290</td> <td>    2.281</td> <td> 0.023</td> <td>    0.093</td> <td>    1.228</td>\n",
       "</tr>\n",
       "<tr>\n",
       "  <th>f</th>         <td>   -0.2048</td> <td>    0.582</td> <td>   -0.352</td> <td> 0.725</td> <td>   -1.346</td> <td>    0.936</td>\n",
       "</tr>\n",
       "</table>"
      ],
      "text/plain": [
       "<class 'statsmodels.iolib.summary.Summary'>\n",
       "\"\"\"\n",
       "                 Generalized Linear Model Regression Results                  \n",
       "==============================================================================\n",
       "Dep. Variable:                      y   No. Observations:                  100\n",
       "Model:                            GLM   Df Residuals:                       97\n",
       "Model Family:                 Poisson   Df Model:                            2\n",
       "Link Function:               identity   Scale:                             1.0\n",
       "Method:                          IRLS   Log-Likelihood:                -235.16\n",
       "Date:                Sun, 07 Oct 2018   Deviance:                       84.538\n",
       "Time:                        02:59:16   Pearson chi2:                     83.6\n",
       "No. Iterations:                     5                                         \n",
       "==============================================================================\n",
       "                 coef    std err          z      P>|z|      [0.025      0.975]\n",
       "------------------------------------------------------------------------------\n",
       "Intercept      1.2671      2.843      0.446      0.656      -4.306       6.840\n",
       "x              0.6606      0.290      2.281      0.023       0.093       1.228\n",
       "f             -0.2048      0.582     -0.352      0.725      -1.346       0.936\n",
       "==============================================================================\n",
       "\"\"\""
      ]
     },
     "execution_count": 87,
     "metadata": {},
     "output_type": "execute_result"
    }
   ],
   "source": [
    "poisson_idt_results.summary()"
   ]
  },
  {
   "cell_type": "code",
   "execution_count": 88,
   "metadata": {},
   "outputs": [
    {
     "data": {
      "image/png": "[encoded data removed]",
      "text/plain": [
       "<matplotlib.figure.Figure at 0x1c15dc2550>"
      ]
     },
     "metadata": {},
     "output_type": "display_data"
    }
   ],
   "source": [
    "xx = np.linspace(5, 20, 100)\n",
    "ff = [np.array([0] * 100), np.array([1] * 100)]\n",
    "labels = ['control', 'treatment']\n",
    "for i in range(2):\n",
    "    plt.plot(xx, 1.2671 + 0.6606*xx-0.2048*ff[i], label=labels[i])\n",
    "plt.title(\"The effet of treatment when identity link function is used\")\n",
    "plt.xlabel(\"X(size)\")\n",
    "plt.ylabel(\"Y(the number of seeds)\")\n",
    "plt.legend()\n",
    "plt.show()"
   ]
  },
  {
   "cell_type": "markdown",
   "metadata": {},
   "source": [
    "<h2>Generalized Linear Model V.S Linear Model</h2>\n",
    "<p>Linear Model is a subset of Generalized Linear Model</p>\n",
    "<p>Linear Model assumes that each sample is drawn from a Gaussian distribution with the same variance regardless of the values of the features a sample has</p>\n",
    "<p>That is, Linear Model can be written as follows if it uses one feature, X, and tries to estimate Y:<br>\n",
    "    $y_i = \\mu_i = \\beta_1 + \\beta_2 x_i$</p>\n",
    "<p>The assumption of Linear Model is too simple to capture the relationship between features and response value in reality. Sometimes response value we want to predict takes on only non-negative values, or each sample may be drawn from different variance.</p>\n",
    "<p>Poisson regression is an appropriate on this dataset since y takes on non-negative integer value, and variance increases as the means of y increases</p>"
   ]
  },
  {
   "cell_type": "markdown",
   "metadata": {},
   "source": [
    "<h2>Visualize the differnece between GLM and LM</h2>"
   ]
  },
  {
   "cell_type": "code",
   "execution_count": 95,
   "metadata": {},
   "outputs": [],
   "source": [
    "def create_samples():\n",
    "    \"\"\"create samples for illustrating the difference between glm and lm\"\"\"\n",
    "    values = [0, 0, 0, 0, 0, 0, 0, 0, 1, 1, 0, 0, 0, 1, 1, 1, 0, 3, 5, 6, 5, 6, 3]\n",
    "    xx = np.linspace(0, 2, len(values))\n",
    "    d_tmp = {'x': xx, 'y': values}\n",
    "    df_tmp = pd.DataFrame(data=d)\n",
    "    return df_tmp"
   ]
  },
  {
   "cell_type": "code",
   "execution_count": 96,
   "metadata": {},
   "outputs": [],
   "source": [
    "def fit_glm(df):\n",
    "    data_exog = sm.add_constant(df['x'])\n",
    "    # creat a  regression using Poisson distribution\n",
    "    poisson_model = sm.GLM(df['y'], data_exog, family=sm.families.Poisson())\n",
    "    # fit a regression\n",
    "    poisson_results = poisson_model.fit()\n",
    "    intercept, slope = poisson_results.params[0], poisson_results.params[1]\n",
    "    return intercept, slope"
   ]
  },
  {
   "cell_type": "code",
   "execution_count": 107,
   "metadata": {},
   "outputs": [],
   "source": [
    "def plot_prediction(model):\n",
    "    df = create_samples()\n",
    "    if model == 'lm':\n",
    "        ax = sns.regplot(x=\"x\", y=\"y\", data=df)\n",
    "        plt.xlabel(\"X\")\n",
    "        plt.ylabel(\"Y\")\n",
    "        plt.title(\"linear regression\")\n",
    "        plt.show()\n",
    "    else:\n",
    "        print(df['x'].max(), np.max(df['x']))\n",
    "        intercept, slope = fit_glm(df)\n",
    "        xx = np.linspace(np.min(df['x']), np.max(df['x']))\n",
    "        plt.scatter(df['x'], df['y'])\n",
    "        plt.plot(xx, np.exp(intercept + slope*xx))\n",
    "        plt.xlabel(\"X\")\n",
    "        plt.ylabel(\"Y\")\n",
    "        plt.title(\"Poisson regression line\")\n",
    "        plt.show()"
   ]
  },
  {
   "cell_type": "code",
   "execution_count": 108,
   "metadata": {},
   "outputs": [
    {
     "data": {
      "image/png": "[encoded data removed]",
      "text/plain": [
       "<matplotlib.figure.Figure at 0x1c15e01438>"
      ]
     },
     "metadata": {},
     "output_type": "display_data"
    },
    {
     "name": "stdout",
     "output_type": "stream",
     "text": [
      "2.0 2.0\n"
     ]
    },
    {
     "data": {
      "image/png": "[encoded data removed]",
      "text/plain": [
       "<matplotlib.figure.Figure at 0x1c163dadd8>"
      ]
     },
     "metadata": {},
     "output_type": "display_data"
    }
   ],
   "source": [
    "for model in ['lm', 'glm']:\n",
    "    plot_prediction(model)"
   ]
  },
  {
   "cell_type": "markdown",
   "metadata": {},
   "source": [
    "<p>Linear Model predicted negative values for X less than 0.5 even though X<sub>i</sub> takes on only non-negative values.It also failed to capture the increasing variance of data points at each X<sub>i</sub></p>"
   ]
  },
  {
   "cell_type": "code",
   "execution_count": null,
   "metadata": {},
   "outputs": [],
   "source": []
  },
  {
   "cell_type": "code",
   "execution_count": null,
   "metadata": {},
   "outputs": [],
   "source": []
  }
 ],
 "metadata": {
  "kernelspec": {
   "display_name": "Python 3",
   "language": "python",
   "name": "python3"
  },
  "language_info": {
   "codemirror_mode": {
    "name": "ipython",
    "version": 3
   },
   "file_extension": ".py",
   "mimetype": "text/x-python",
   "name": "python",
   "nbconvert_exporter": "python",
   "pygments_lexer": "ipython3",
   "version": "3.5.4"
  }
 },
 "nbformat": 4,
 "nbformat_minor": 2
}
